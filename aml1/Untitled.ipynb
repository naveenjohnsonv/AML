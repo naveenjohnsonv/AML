{
 "cells": [
  {
   "cell_type": "code",
   "execution_count": 1,
   "id": "13c6b9e8-0458-400b-b01c-3f5e04dccf65",
   "metadata": {},
   "outputs": [],
   "source": [
    "#importation\n",
    "import pandas as pd\n",
    "from fastai.vision.utils import get_image_files #allow to collect images from a repertory and to display it\n",
    "from PIL import Image\n",
    "import matplotlib.pyplot as plt\n",
    "import numpy as np\n",
    "import os"
   ]
  },
  {
   "cell_type": "code",
   "execution_count": 2,
   "id": "5482050c-fffc-4cf5-9c91-4e0ad6ba882d",
   "metadata": {},
   "outputs": [],
   "source": [
    "#importation of datasets\n",
    "train = pd.read_csv('train.csv')\n"
   ]
  },
  {
   "cell_type": "code",
   "execution_count": 3,
   "id": "5470fbc4-9b27-4b31-865e-f82016f4a9c2",
   "metadata": {},
   "outputs": [
    {
     "data": {
      "text/html": [
       "<div>\n",
       "<style scoped>\n",
       "    .dataframe tbody tr th:only-of-type {\n",
       "        vertical-align: middle;\n",
       "    }\n",
       "\n",
       "    .dataframe tbody tr th {\n",
       "        vertical-align: top;\n",
       "    }\n",
       "\n",
       "    .dataframe thead th {\n",
       "        text-align: right;\n",
       "    }\n",
       "</style>\n",
       "<table border=\"1\" class=\"dataframe\">\n",
       "  <thead>\n",
       "    <tr style=\"text-align: right;\">\n",
       "      <th></th>\n",
       "      <th>id</th>\n",
       "      <th>has_cactus</th>\n",
       "    </tr>\n",
       "  </thead>\n",
       "  <tbody>\n",
       "    <tr>\n",
       "      <th>0</th>\n",
       "      <td>0004be2cfeaba1c0361d39e2b000257b.jpg</td>\n",
       "      <td>1</td>\n",
       "    </tr>\n",
       "    <tr>\n",
       "      <th>1</th>\n",
       "      <td>000c8a36845c0208e833c79c1bffedd1.jpg</td>\n",
       "      <td>1</td>\n",
       "    </tr>\n",
       "    <tr>\n",
       "      <th>2</th>\n",
       "      <td>000d1e9a533f62e55c289303b072733d.jpg</td>\n",
       "      <td>1</td>\n",
       "    </tr>\n",
       "    <tr>\n",
       "      <th>3</th>\n",
       "      <td>0011485b40695e9138e92d0b3fb55128.jpg</td>\n",
       "      <td>1</td>\n",
       "    </tr>\n",
       "    <tr>\n",
       "      <th>4</th>\n",
       "      <td>0014d7a11e90b62848904c1418fc8cf2.jpg</td>\n",
       "      <td>1</td>\n",
       "    </tr>\n",
       "  </tbody>\n",
       "</table>\n",
       "</div>"
      ],
      "text/plain": [
       "                                     id  has_cactus\n",
       "0  0004be2cfeaba1c0361d39e2b000257b.jpg           1\n",
       "1  000c8a36845c0208e833c79c1bffedd1.jpg           1\n",
       "2  000d1e9a533f62e55c289303b072733d.jpg           1\n",
       "3  0011485b40695e9138e92d0b3fb55128.jpg           1\n",
       "4  0014d7a11e90b62848904c1418fc8cf2.jpg           1"
      ]
     },
     "execution_count": 3,
     "metadata": {},
     "output_type": "execute_result"
    }
   ],
   "source": [
    "train.head()"
   ]
  },
  {
   "cell_type": "code",
   "execution_count": 4,
   "id": "949bea10-9c44-48cd-bcf6-7a772aacc624",
   "metadata": {},
   "outputs": [
    {
     "data": {
      "text/html": [
       "<div>\n",
       "<style scoped>\n",
       "    .dataframe tbody tr th:only-of-type {\n",
       "        vertical-align: middle;\n",
       "    }\n",
       "\n",
       "    .dataframe tbody tr th {\n",
       "        vertical-align: top;\n",
       "    }\n",
       "\n",
       "    .dataframe thead th {\n",
       "        text-align: right;\n",
       "    }\n",
       "</style>\n",
       "<table border=\"1\" class=\"dataframe\">\n",
       "  <thead>\n",
       "    <tr style=\"text-align: right;\">\n",
       "      <th></th>\n",
       "      <th>has_cactus</th>\n",
       "    </tr>\n",
       "  </thead>\n",
       "  <tbody>\n",
       "    <tr>\n",
       "      <th>count</th>\n",
       "      <td>17500.000000</td>\n",
       "    </tr>\n",
       "    <tr>\n",
       "      <th>mean</th>\n",
       "      <td>0.750629</td>\n",
       "    </tr>\n",
       "    <tr>\n",
       "      <th>std</th>\n",
       "      <td>0.432662</td>\n",
       "    </tr>\n",
       "    <tr>\n",
       "      <th>min</th>\n",
       "      <td>0.000000</td>\n",
       "    </tr>\n",
       "    <tr>\n",
       "      <th>25%</th>\n",
       "      <td>1.000000</td>\n",
       "    </tr>\n",
       "    <tr>\n",
       "      <th>50%</th>\n",
       "      <td>1.000000</td>\n",
       "    </tr>\n",
       "    <tr>\n",
       "      <th>75%</th>\n",
       "      <td>1.000000</td>\n",
       "    </tr>\n",
       "    <tr>\n",
       "      <th>max</th>\n",
       "      <td>1.000000</td>\n",
       "    </tr>\n",
       "  </tbody>\n",
       "</table>\n",
       "</div>"
      ],
      "text/plain": [
       "         has_cactus\n",
       "count  17500.000000\n",
       "mean       0.750629\n",
       "std        0.432662\n",
       "min        0.000000\n",
       "25%        1.000000\n",
       "50%        1.000000\n",
       "75%        1.000000\n",
       "max        1.000000"
      ]
     },
     "execution_count": 4,
     "metadata": {},
     "output_type": "execute_result"
    }
   ],
   "source": [
    "train.describe()"
   ]
  },
  {
   "cell_type": "code",
   "execution_count": 5,
   "id": "af0bbc6c-0ee9-44ca-a467-f1b73e2c7089",
   "metadata": {},
   "outputs": [],
   "source": [
    "#collect of images\n",
    "\n",
    "train_images_path = \"train/train\"\n",
    "test_images_path = \"test/test\"\n",
    "\n",
    "train_images = get_image_files(train_images_path)\n",
    "test_images = get_image_files(test_images_path)"
   ]
  },
  {
   "cell_type": "code",
   "execution_count": 6,
   "id": "e6a9d6e9-54d2-4dbf-ae99-50a5eb4be54d",
   "metadata": {},
   "outputs": [
    {
     "data": {
      "image/png": "[encoded data removed]",
      "text/plain": [
       "<PIL.JpegImagePlugin.JpegImageFile image mode=RGB size=32x32>"
      ]
     },
     "execution_count": 6,
     "metadata": {},
     "output_type": "execute_result"
    }
   ],
   "source": [
    "im = Image.open(train_images[0])\n",
    "im"
   ]
  },
  {
   "cell_type": "code",
   "execution_count": 7,
   "id": "4ae75914",
   "metadata": {},
   "outputs": [
    {
     "name": "stdout",
     "output_type": "stream",
     "text": [
      "has_cactus\n",
      "1    13136\n",
      "0     4364\n",
      "Name: count, dtype: int64\n"
     ]
    },
    {
     "data": {
      "image/png": "[encoded data removed]",
      "text/plain": [
       "<Figure size 640x480 with 1 Axes>"
      ]
     },
     "metadata": {},
     "output_type": "display_data"
    }
   ],
   "source": [
    "#data distribution\n",
    "train['has_cactus'].value_counts().plot(kind='bar')\n",
    "print(train['has_cactus'].value_counts())\n",
    "\n",
    "#we need to balance the dataset...\n"
   ]
  },
  {
   "cell_type": "code",
   "execution_count": 8,
   "id": "5c748173",
   "metadata": {},
   "outputs": [],
   "source": [
    "##normlization of the images and take the name of the images\n",
    "\n",
    "normalized_images = []\n",
    "normalized_images_names = []\n",
    "train_images = get_image_files('train/train')\n",
    "\n",
    "for image_path in train_images:\n",
    "    im = Image.open(image_path)\n",
    "    im_array = np.array(im)\n",
    "    im_array = im_array.astype('float32') / 255.0\n",
    "    normalized_images.append(im_array)\n",
    "    normalized_images_names.append(os.path.basename(image_path)) # add the name to the list in order to if there are cactus or no\n"
   ]
  },
  {
   "cell_type": "code",
   "execution_count": 9,
   "id": "df629480",
   "metadata": {},
   "outputs": [
    {
     "name": "stdout",
     "output_type": "stream",
     "text": [
      "0004be2cfeaba1c0361d39e2b000257b.jpg\n"
     ]
    }
   ],
   "source": [
    "print(normalized_images_names[0])"
   ]
  },
  {
   "cell_type": "code",
   "execution_count": 10,
   "id": "34cb8b7b",
   "metadata": {},
   "outputs": [
    {
     "data": {
      "text/plain": [
       "(32, 32, 3)"
      ]
     },
     "execution_count": 10,
     "metadata": {},
     "output_type": "execute_result"
    }
   ],
   "source": [
    "normalized_images[0].shape\n",
    "#normalized_images[0][0]"
   ]
  },
  {
   "cell_type": "code",
   "execution_count": 11,
   "id": "29412243",
   "metadata": {},
   "outputs": [
    {
     "data": {
      "image/png": "[encoded data removed]",
      "text/plain": [
       "<Figure size 640x480 with 1 Axes>"
      ]
     },
     "metadata": {},
     "output_type": "display_data"
    }
   ],
   "source": [
    "plt.show(plt.imshow(normalized_images[1]))"
   ]
  },
  {
   "cell_type": "code",
   "execution_count": 12,
   "id": "7193c145",
   "metadata": {},
   "outputs": [],
   "source": [
    "#separate images with cactus and without cactus\n",
    "\n",
    "#Create a dictionary to map image names to their indice\n",
    "name_to_index = {os.path.basename(image_path): idx for idx, image_path in enumerate(train_images)}\n",
    "df_noCactus = [] #images without cactus\n",
    "df_noCactus_name = [] #names of images without cactus\n",
    "\n",
    "for index, row in train.iterrows():\n",
    "    if row['has_cactus'] == 0:\n",
    "        image_name = row['id']\n",
    "        image_index = name_to_index[image_name] #use the dictionary to find the corresponding index\n",
    "\n",
    "\n",
    "        df_noCactus_name.append(normalized_images_names[image_index])\n",
    "        df_noCactus.append(normalized_images[image_index])"
   ]
  },
  {
   "cell_type": "code",
   "execution_count": 13,
   "id": "d0d268c6",
   "metadata": {},
   "outputs": [
    {
     "data": {
      "text/plain": [
       "4364"
      ]
     },
     "execution_count": 13,
     "metadata": {},
     "output_type": "execute_result"
    }
   ],
   "source": [
    "len(df_noCactus)"
   ]
  },
  {
   "cell_type": "code",
   "execution_count": 14,
   "id": "8b046929",
   "metadata": {},
   "outputs": [],
   "source": [
    "##random oversampling\n",
    "\n",
    "def add_noise(img,variance=0.1,mean=0):\n",
    "    \"\"\"add gaussian noise to an image\"\"\"\n",
    "    noise = np.random.normal(mean, variance, img.shape)\n",
    "    img += noise\n",
    "    img = np.clip(img, 0., 1.)\n",
    "    return img\n",
    "\n",
    "def rotation(img, angle=90):\n",
    "    \"\"\"rotate an image by a given angle in degrees\"\"\"\n",
    "    return np.rot90(img, k=angle//90)\n",
    "\n",
    "def luminosity(img, factor=1):\n",
    "    \"\"\"change the luminosity of an image\"\"\"\n",
    "    return np.clip(img * factor, 0., 1.)\n",
    "\n",
    "\n"
   ]
  },
  {
   "cell_type": "code",
   "execution_count": 15,
   "id": "7c9e3ca1",
   "metadata": {},
   "outputs": [],
   "source": [
    "def modified_image(im):\n",
    "    \"\"\"apply random transformations to an image\"\"\"\n",
    "    im = im.copy()\n",
    "    if np.random.rand() < 0.5:\n",
    "        im = rotation(im, angle=np.random.choice([90, 180, 270]))\n",
    "    if np.random.rand() < 0.5:\n",
    "        im = luminosity(im, factor=np.random.uniform(0.5, 1.5))\n",
    "    if np.random.rand() < 0.5:\n",
    "        im = add_noise(im, variance=np.random.uniform(0, 0.05))\n",
    "    return im"
   ]
  },
  {
   "cell_type": "code",
   "execution_count": 16,
   "id": "1c38e3be",
   "metadata": {},
   "outputs": [],
   "source": [
    "###new images of no cactus\n",
    "new_images = [] #new images of no cactus\n",
    "number_of_image=train['has_cactus'].value_counts()[1]-train['has_cactus'].value_counts()[0]\n",
    "for k in range(number_of_image):\n",
    "    p = np.random.randint(0, len(df_noCactus))\n",
    "    new_images.append(modified_image(df_noCactus[p]))"
   ]
  },
  {
   "cell_type": "code",
   "execution_count": 17,
   "id": "6af7fbbe",
   "metadata": {},
   "outputs": [
    {
     "data": {
      "image/png": "[encoded data removed]",
      "text/plain": [
       "<Figure size 640x480 with 1 Axes>"
      ]
     },
     "metadata": {},
     "output_type": "display_data"
    },
    {
     "name": "stdout",
     "output_type": "stream",
     "text": [
      "8772\n"
     ]
    }
   ],
   "source": [
    "plt.show(plt.imshow(new_images[2]))\n",
    "print(len(new_images))"
   ]
  },
  {
   "cell_type": "code",
   "execution_count": 18,
   "id": "40faa1a7",
   "metadata": {},
   "outputs": [
    {
     "name": "stdout",
     "output_type": "stream",
     "text": [
      "(26272, 32, 32, 3)\n"
     ]
    }
   ],
   "source": [
    "##create a new dataset with the new images\n",
    "new_images_id=np.zeros(len(new_images))\n",
    "new_images_has_cactus=np.zeros(len(new_images))\n",
    "\n",
    "##concatenate the new images with the old images\n",
    "new_images=np.array(new_images)\n",
    "normalized_images=np.array(normalized_images)\n",
    "df_Cactus=np.concatenate((normalized_images,new_images),axis=0)\n",
    "\n",
    "new_images_name=np.array(new_images_id)\n",
    "normalized_images_names=np.array(normalized_images_names)\n",
    "df_Cactus_id=np.concatenate((normalized_images_names,new_images_name),axis=0)\n",
    "\n",
    "has_cactus=train['has_cactus'].to_numpy()\n",
    "new_images_has_cactus=np.concatenate((has_cactus,new_images_has_cactus),axis=0)\n",
    "\n",
    "# flatten the images\n",
    "#df_Cactus_list = [img.flatten().tolist() for img in df_Cactus]\n",
    "\n",
    "#print the shape of the new dataset\n",
    "print(df_Cactus.shape)\n",
    "\n"
   ]
  },
  {
   "cell_type": "code",
   "execution_count": 19,
   "id": "237138a9",
   "metadata": {},
   "outputs": [
    {
     "name": "stdout",
     "output_type": "stream",
     "text": [
      "there are : 13136.0 cactus and  13136.0 no cactus\n"
     ]
    }
   ],
   "source": [
    "print(\"there are :\",np.sum(new_images_has_cactus),\"cactus and \",len(new_images_has_cactus)-np.sum(new_images_has_cactus),\"no cactus\")"
   ]
  },
  {
   "cell_type": "markdown",
   "id": "1dd87854",
   "metadata": {},
   "source": [
    "# Deep Learning"
   ]
  },
  {
   "cell_type": "markdown",
   "id": "3f896d21",
   "metadata": {},
   "source": [
    "1. df_cactus: balanced dataset of images normalized\n",
    "2. new_images_has_cactus: labels of images"
   ]
  },
  {
   "cell_type": "code",
   "execution_count": 146,
   "id": "422ad877",
   "metadata": {},
   "outputs": [],
   "source": [
    "##Importation\n",
    "import tensorflow as tf\n",
    "from tensorflow import keras\n",
    "from tensorflow.keras import layers"
   ]
  },
  {
   "cell_type": "code",
   "execution_count": 147,
   "id": "8d2402ee",
   "metadata": {},
   "outputs": [],
   "source": [
    "##Parameters\n",
    "\n",
    "batch_size = 32\n",
    "image_height = 32\n",
    "image_width = 32\n",
    "n_classes=2"
   ]
  },
  {
   "cell_type": "code",
   "execution_count": 154,
   "id": "2a6ee1a3",
   "metadata": {},
   "outputs": [],
   "source": [
    "#convert list in tensor\n",
    "images_tensor = tf.convert_to_tensor(df_Cactus, dtype=tf.float32)\n",
    "labels_tensor = tf.convert_to_tensor(new_images_has_cactus, dtype=tf.float32)\n",
    "\n",
    "#create a dataset\n",
    "dataset = tf.data.Dataset.from_tensor_slices((images_tensor, labels_tensor))"
   ]
  },
  {
   "cell_type": "code",
   "execution_count": 125,
   "id": "e6d87cb0",
   "metadata": {},
   "outputs": [
    {
     "data": {
      "image/png": "[encoded data removed]",
      "text/plain": [
       "<Figure size 640x480 with 1 Axes>"
      ]
     },
     "metadata": {},
     "output_type": "display_data"
    },
    {
     "data": {
      "image/png": "[encoded data removed]",
      "text/plain": [
       "<Figure size 640x480 with 1 Axes>"
      ]
     },
     "metadata": {},
     "output_type": "display_data"
    }
   ],
   "source": [
    "import matplotlib.pyplot as plt\n",
    "\n",
    "# Print the first 2 images and labels\n",
    "for images, labels in dataset.take(2):\n",
    "    plt.imshow(images.numpy())\n",
    "    plt.title(f'Label: {labels.numpy()}')\n",
    "    plt.show()"
   ]
  },
  {
   "cell_type": "code",
   "execution_count": 167,
   "id": "78990242",
   "metadata": {},
   "outputs": [],
   "source": [
    "#shuffle the dataset\n",
    "dataset = dataset.shuffle(buffer_size=1024).repeat()"
   ]
  },
  {
   "cell_type": "code",
   "execution_count": 168,
   "id": "1693846d",
   "metadata": {},
   "outputs": [],
   "source": [
    "#divided into train and validation\n",
    "train_size = int(0.8 * len(df_Cactus))\n",
    "val_size = int(0.2 * len(df_Cactus))\n",
    "train_dataset = dataset.take(train_size).batch(batch_size)\n",
    "val_dataset = dataset.skip(train_size).batch(batch_size)"
   ]
  },
  {
   "cell_type": "code",
   "execution_count": 169,
   "id": "7924a3d2",
   "metadata": {},
   "outputs": [
    {
     "name": "stdout",
     "output_type": "stream",
     "text": [
      "(TensorSpec(shape=(None, 32, 32, 3), dtype=tf.float32, name=None), TensorSpec(shape=(None,), dtype=tf.float32, name=None))\n"
     ]
    }
   ],
   "source": [
    "print(train_dataset.element_spec)"
   ]
  },
  {
   "cell_type": "code",
   "execution_count": 170,
   "id": "c3887f7e",
   "metadata": {},
   "outputs": [],
   "source": [
    "#model deep learning\n",
    "\n",
    "model = tf.keras.Sequential([\n",
    "    layers.Conv2D(64, 3, activation='relu'),\n",
    "    layers.MaxPooling2D(),\n",
    "    layers.Conv2D(32, 3, activation='relu'),\n",
    "    layers.MaxPooling2D(),\n",
    "    layers.Conv2D(16, 3, activation='relu'),\n",
    "    layers.MaxPooling2D(),\n",
    "    layers.Flatten(),\n",
    "    layers.Dense(64, activation='relu'),\n",
    "    layers.Dense(1, activation='sigmoid')\n",
    "])"
   ]
  },
  {
   "cell_type": "code",
   "execution_count": 171,
   "id": "a733a251",
   "metadata": {},
   "outputs": [],
   "source": [
    "#compile the model\n",
    "model.compile(optimizer='adam',\n",
    "              loss=tf.keras.losses.BinaryCrossentropy(from_logits=True),\n",
    "              metrics=['accuracy'])"
   ]
  },
  {
   "cell_type": "code",
   "execution_count": 172,
   "id": "d80dcf24",
   "metadata": {},
   "outputs": [
    {
     "name": "stdout",
     "output_type": "stream",
     "text": [
      "WARNING:tensorflow:`embeddings_data` is not supported in TensorFlow 2.0. Instead, all `Embedding` variables will be visualized.\n"
     ]
    }
   ],
   "source": [
    "logdir=\"logs\"\n",
    "\n",
    "tensorboard_callback = keras.callbacks.TensorBoard(log_dir=logdir,histogram_freq=1, write_images=logdir,\n",
    "                                                   embeddings_data=train_dataset)\n"
   ]
  },
  {
   "cell_type": "code",
   "execution_count": 173,
   "id": "c10dc25a",
   "metadata": {},
   "outputs": [
    {
     "name": "stdout",
     "output_type": "stream",
     "text": [
      "<_TakeDataset element_spec=(TensorSpec(shape=(32, 32, 3), dtype=tf.float32, name=None), TensorSpec(shape=(), dtype=tf.float32, name=None))>\n"
     ]
    }
   ],
   "source": [
    "images=dataset.take(1)\n",
    "print(images)"
   ]
  },
  {
   "cell_type": "code",
   "execution_count": 174,
   "id": "f9867633",
   "metadata": {},
   "outputs": [
    {
     "name": "stderr",
     "output_type": "stream",
     "text": [
      "C:\\Users\\Victor\\AppData\\Local\\Packages\\PythonSoftwareFoundation.Python.3.10_qbz5n2kfra8p0\\LocalCache\\local-packages\\Python310\\site-packages\\keras\\backend.py:5703: UserWarning: \"`binary_crossentropy` received `from_logits=True`, but the `output` argument was produced by a Sigmoid activation and thus does not represent logits. Was this intended?\n",
      "  output, from_logits = _get_logits(\n"
     ]
    },
    {
     "name": "stdout",
     "output_type": "stream",
     "text": [
      "655/657 [============================>.] - ETA: 0s - loss: 0.1982 - accuracy: 0.9146"
     ]
    },
    {
     "ename": "ValueError",
     "evalue": "When providing an infinite dataset, you must specify the number of steps to run (if you did not intend to create an infinite dataset, make sure to not call `repeat()` on the dataset).",
     "output_type": "error",
     "traceback": [
      "\u001b[1;31m---------------------------------------------------------------------------\u001b[0m",
      "\u001b[1;31mValueError\u001b[0m                                Traceback (most recent call last)",
      "Cell \u001b[1;32mIn[174], line 2\u001b[0m\n\u001b[0;32m      1\u001b[0m \u001b[38;5;66;03m#fit the model\u001b[39;00m\n\u001b[1;32m----> 2\u001b[0m \u001b[43mmodel\u001b[49m\u001b[38;5;241;43m.\u001b[39;49m\u001b[43mfit\u001b[49m\u001b[43m(\u001b[49m\u001b[43m \u001b[49m\n\u001b[0;32m      3\u001b[0m \u001b[43m    \u001b[49m\u001b[43mtrain_dataset\u001b[49m\u001b[43m,\u001b[49m\n\u001b[0;32m      4\u001b[0m \u001b[43m  \u001b[49m\u001b[43mvalidation_data\u001b[49m\u001b[38;5;241;43m=\u001b[39;49m\u001b[43mval_dataset\u001b[49m\u001b[43m,\u001b[49m\n\u001b[0;32m      5\u001b[0m \u001b[43m  \u001b[49m\u001b[43mepochs\u001b[49m\u001b[38;5;241;43m=\u001b[39;49m\u001b[38;5;241;43m1\u001b[39;49m\u001b[43m,\u001b[49m\n\u001b[0;32m      6\u001b[0m \u001b[43m  \u001b[49m\u001b[43mcallbacks\u001b[49m\u001b[38;5;241;43m=\u001b[39;49m\u001b[43m[\u001b[49m\u001b[43mtensorboard_callback\u001b[49m\u001b[43m]\u001b[49m\n\u001b[0;32m      7\u001b[0m \u001b[43m)\u001b[49m\n",
      "File \u001b[1;32m~\\AppData\\Local\\Packages\\PythonSoftwareFoundation.Python.3.10_qbz5n2kfra8p0\\LocalCache\\local-packages\\Python310\\site-packages\\keras\\utils\\traceback_utils.py:70\u001b[0m, in \u001b[0;36mfilter_traceback.<locals>.error_handler\u001b[1;34m(*args, **kwargs)\u001b[0m\n\u001b[0;32m     67\u001b[0m     filtered_tb \u001b[38;5;241m=\u001b[39m _process_traceback_frames(e\u001b[38;5;241m.\u001b[39m__traceback__)\n\u001b[0;32m     68\u001b[0m     \u001b[38;5;66;03m# To get the full stack trace, call:\u001b[39;00m\n\u001b[0;32m     69\u001b[0m     \u001b[38;5;66;03m# `tf.debugging.disable_traceback_filtering()`\u001b[39;00m\n\u001b[1;32m---> 70\u001b[0m     \u001b[38;5;28;01mraise\u001b[39;00m e\u001b[38;5;241m.\u001b[39mwith_traceback(filtered_tb) \u001b[38;5;28;01mfrom\u001b[39;00m \u001b[38;5;28mNone\u001b[39m\n\u001b[0;32m     71\u001b[0m \u001b[38;5;28;01mfinally\u001b[39;00m:\n\u001b[0;32m     72\u001b[0m     \u001b[38;5;28;01mdel\u001b[39;00m filtered_tb\n",
      "File \u001b[1;32m~\\AppData\\Local\\Packages\\PythonSoftwareFoundation.Python.3.10_qbz5n2kfra8p0\\LocalCache\\local-packages\\Python310\\site-packages\\keras\\engine\\data_adapter.py:819\u001b[0m, in \u001b[0;36mDatasetAdapter._validate_args\u001b[1;34m(self, y, sample_weights, steps)\u001b[0m\n\u001b[0;32m    814\u001b[0m size \u001b[38;5;241m=\u001b[39m tf\u001b[38;5;241m.\u001b[39mdata\u001b[38;5;241m.\u001b[39mexperimental\u001b[38;5;241m.\u001b[39mcardinality(\u001b[38;5;28mself\u001b[39m\u001b[38;5;241m.\u001b[39m_dataset)\u001b[38;5;241m.\u001b[39mnumpy()\n\u001b[0;32m    815\u001b[0m \u001b[38;5;28;01mif\u001b[39;00m (\n\u001b[0;32m    816\u001b[0m     size \u001b[38;5;241m==\u001b[39m tf\u001b[38;5;241m.\u001b[39mdata\u001b[38;5;241m.\u001b[39mexperimental\u001b[38;5;241m.\u001b[39mINFINITE_CARDINALITY\n\u001b[0;32m    817\u001b[0m     \u001b[38;5;129;01mand\u001b[39;00m steps \u001b[38;5;129;01mis\u001b[39;00m \u001b[38;5;28;01mNone\u001b[39;00m\n\u001b[0;32m    818\u001b[0m ):\n\u001b[1;32m--> 819\u001b[0m     \u001b[38;5;28;01mraise\u001b[39;00m \u001b[38;5;167;01mValueError\u001b[39;00m(\n\u001b[0;32m    820\u001b[0m         \u001b[38;5;124m\"\u001b[39m\u001b[38;5;124mWhen providing an infinite dataset, you must specify \u001b[39m\u001b[38;5;124m\"\u001b[39m\n\u001b[0;32m    821\u001b[0m         \u001b[38;5;124m\"\u001b[39m\u001b[38;5;124mthe number of steps to run (if you did not intend to \u001b[39m\u001b[38;5;124m\"\u001b[39m\n\u001b[0;32m    822\u001b[0m         \u001b[38;5;124m\"\u001b[39m\u001b[38;5;124mcreate an infinite dataset, make sure to not call \u001b[39m\u001b[38;5;124m\"\u001b[39m\n\u001b[0;32m    823\u001b[0m         \u001b[38;5;124m\"\u001b[39m\u001b[38;5;124m`repeat()` on the dataset).\u001b[39m\u001b[38;5;124m\"\u001b[39m\n\u001b[0;32m    824\u001b[0m     )\n",
      "\u001b[1;31mValueError\u001b[0m: When providing an infinite dataset, you must specify the number of steps to run (if you did not intend to create an infinite dataset, make sure to not call `repeat()` on the dataset)."
     ]
    }
   ],
   "source": [
    "#fit the model\n",
    "model.fit( \n",
    "    train_dataset,\n",
    "  validation_data=val_dataset,\n",
    "  epochs=1,\n",
    "  callbacks=[tensorboard_callback]\n",
    ")"
   ]
  },
  {
   "cell_type": "code",
   "execution_count": 176,
   "id": "c5509453",
   "metadata": {},
   "outputs": [
    {
     "name": "stdout",
     "output_type": "stream",
     "text": [
      "200/200 [==============================] - 1s 5ms/step - loss: 0.1627 - accuracy: 0.9391\n"
     ]
    },
    {
     "data": {
      "text/plain": [
       "[0.16274504363536835, 0.9390624761581421]"
      ]
     },
     "execution_count": 176,
     "metadata": {},
     "output_type": "execute_result"
    }
   ],
   "source": [
    "#evaluation\n",
    "model.evaluate(val_dataset, steps=200)\n"
   ]
  },
  {
   "cell_type": "code",
   "execution_count": 116,
   "id": "a872e41f",
   "metadata": {},
   "outputs": [
    {
     "name": "stdout",
     "output_type": "stream",
     "text": [
      "Model: \"sequential_3\"\n",
      "_________________________________________________________________\n",
      " Layer (type)                Output Shape              Param #   \n",
      "=================================================================\n",
      " conv2d_9 (Conv2D)           (None, 30, 30, 128)       3584      \n",
      "                                                                 \n",
      " max_pooling2d_9 (MaxPooling  (None, 15, 15, 128)      0         \n",
      " 2D)                                                             \n",
      "                                                                 \n",
      " conv2d_10 (Conv2D)          (None, 13, 13, 64)        73792     \n",
      "                                                                 \n",
      " max_pooling2d_10 (MaxPoolin  (None, 6, 6, 64)         0         \n",
      " g2D)                                                            \n",
      "                                                                 \n",
      " conv2d_11 (Conv2D)          (None, 4, 4, 32)          18464     \n",
      "                                                                 \n",
      " max_pooling2d_11 (MaxPoolin  (None, 2, 2, 32)         0         \n",
      " g2D)                                                            \n",
      "                                                                 \n",
      " flatten_3 (Flatten)         (None, 128)               0         \n",
      "                                                                 \n",
      " dense_6 (Dense)             (None, 128)               16512     \n",
      "                                                                 \n",
      " dense_7 (Dense)             (None, 1)                 129       \n",
      "                                                                 \n",
      "=================================================================\n",
      "Total params: 112,481\n",
      "Trainable params: 112,481\n",
      "Non-trainable params: 0\n",
      "_________________________________________________________________\n"
     ]
    }
   ],
   "source": [
    "model.summary()"
   ]
  },
  {
   "cell_type": "markdown",
   "id": "9e8d82ce",
   "metadata": {},
   "source": [
    "# Evaluation"
   ]
  },
  {
   "cell_type": "code",
   "execution_count": 102,
   "id": "2699ee24",
   "metadata": {},
   "outputs": [],
   "source": [
    "##normlization of the images and take the name of the images\n",
    "\n",
    "normalized_test_images = []\n",
    "normalized_test_images_names = []\n",
    "test_images = get_image_files('test/test')\n",
    "\n",
    "for image_path in test_images:\n",
    "    im = Image.open(image_path)\n",
    "    im_array = np.array(im)\n",
    "    normalized_test_images.append(im_array)\n",
    "    normalized_test_images_names.append(os.path.basename(image_path)) "
   ]
  },
  {
   "cell_type": "code",
   "execution_count": 103,
   "id": "28910c5d",
   "metadata": {},
   "outputs": [
    {
     "name": "stdout",
     "output_type": "stream",
     "text": [
      "                                     id  has_cactus\n",
      "0  000940378805c44108d287872b2f04ce.jpg         0.5\n",
      "1  0017242f54ececa4512b4d7937d1e21e.jpg         0.5\n",
      "2  001ee6d8564003107853118ab87df407.jpg         0.5\n",
      "3  002e175c3c1e060769475f52182583d0.jpg         0.5\n",
      "4  0036e44a7e8f7218e9bc7bf8137e4943.jpg         0.5\n"
     ]
    }
   ],
   "source": [
    "#open csv file\n",
    "submission = pd.read_csv('sample_submission.csv')\n",
    "print(submission.head())"
   ]
  }
 ],
 "metadata": {
  "kernelspec": {
   "display_name": "Python 3 (ipykernel)",
   "language": "python",
   "name": "python3"
  },
  "language_info": {
   "codemirror_mode": {
    "name": "ipython",
    "version": 3
   },
   "file_extension": ".py",
   "mimetype": "text/x-python",
   "name": "python",
   "nbconvert_exporter": "python",
   "pygments_lexer": "ipython3",
   "version": "3.10.11"
  }
 },
 "nbformat": 4,
 "nbformat_minor": 5
}
