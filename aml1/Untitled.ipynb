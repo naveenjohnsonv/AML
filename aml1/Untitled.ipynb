{
 "cells": [
  {
   "cell_type": "code",
   "execution_count": 2,
   "id": "13c6b9e8-0458-400b-b01c-3f5e04dccf65",
   "metadata": {},
   "outputs": [],
   "source": [
    "#importation\n",
    "import pandas as pd\n",
    "from fastai.vision.utils import get_image_files #allow to collect images from a repertory and to display it\n",
    "from PIL import Image\n",
    "import matplotlib.pyplot as plt\n",
    "import numpy as np\n",
    "import os"
   ]
  },
  {
   "cell_type": "code",
   "execution_count": 3,
   "id": "5482050c-fffc-4cf5-9c91-4e0ad6ba882d",
   "metadata": {},
   "outputs": [],
   "source": [
    "#importation of datasets\n",
    "train = pd.read_csv('train.csv')\n"
   ]
  },
  {
   "cell_type": "code",
   "execution_count": 4,
   "id": "5470fbc4-9b27-4b31-865e-f82016f4a9c2",
   "metadata": {},
   "outputs": [
    {
     "data": {
      "text/html": [
       "<div>\n",
       "<style scoped>\n",
       "    .dataframe tbody tr th:only-of-type {\n",
       "        vertical-align: middle;\n",
       "    }\n",
       "\n",
       "    .dataframe tbody tr th {\n",
       "        vertical-align: top;\n",
       "    }\n",
       "\n",
       "    .dataframe thead th {\n",
       "        text-align: right;\n",
       "    }\n",
       "</style>\n",
       "<table border=\"1\" class=\"dataframe\">\n",
       "  <thead>\n",
       "    <tr style=\"text-align: right;\">\n",
       "      <th></th>\n",
       "      <th>id</th>\n",
       "      <th>has_cactus</th>\n",
       "    </tr>\n",
       "  </thead>\n",
       "  <tbody>\n",
       "    <tr>\n",
       "      <th>0</th>\n",
       "      <td>0004be2cfeaba1c0361d39e2b000257b.jpg</td>\n",
       "      <td>1</td>\n",
       "    </tr>\n",
       "    <tr>\n",
       "      <th>1</th>\n",
       "      <td>000c8a36845c0208e833c79c1bffedd1.jpg</td>\n",
       "      <td>1</td>\n",
       "    </tr>\n",
       "    <tr>\n",
       "      <th>2</th>\n",
       "      <td>000d1e9a533f62e55c289303b072733d.jpg</td>\n",
       "      <td>1</td>\n",
       "    </tr>\n",
       "    <tr>\n",
       "      <th>3</th>\n",
       "      <td>0011485b40695e9138e92d0b3fb55128.jpg</td>\n",
       "      <td>1</td>\n",
       "    </tr>\n",
       "    <tr>\n",
       "      <th>4</th>\n",
       "      <td>0014d7a11e90b62848904c1418fc8cf2.jpg</td>\n",
       "      <td>1</td>\n",
       "    </tr>\n",
       "  </tbody>\n",
       "</table>\n",
       "</div>"
      ],
      "text/plain": [
       "                                     id  has_cactus\n",
       "0  0004be2cfeaba1c0361d39e2b000257b.jpg           1\n",
       "1  000c8a36845c0208e833c79c1bffedd1.jpg           1\n",
       "2  000d1e9a533f62e55c289303b072733d.jpg           1\n",
       "3  0011485b40695e9138e92d0b3fb55128.jpg           1\n",
       "4  0014d7a11e90b62848904c1418fc8cf2.jpg           1"
      ]
     },
     "execution_count": 4,
     "metadata": {},
     "output_type": "execute_result"
    }
   ],
   "source": [
    "train.head()"
   ]
  },
  {
   "cell_type": "code",
   "execution_count": 5,
   "id": "949bea10-9c44-48cd-bcf6-7a772aacc624",
   "metadata": {},
   "outputs": [
    {
     "data": {
      "text/html": [
       "<div>\n",
       "<style scoped>\n",
       "    .dataframe tbody tr th:only-of-type {\n",
       "        vertical-align: middle;\n",
       "    }\n",
       "\n",
       "    .dataframe tbody tr th {\n",
       "        vertical-align: top;\n",
       "    }\n",
       "\n",
       "    .dataframe thead th {\n",
       "        text-align: right;\n",
       "    }\n",
       "</style>\n",
       "<table border=\"1\" class=\"dataframe\">\n",
       "  <thead>\n",
       "    <tr style=\"text-align: right;\">\n",
       "      <th></th>\n",
       "      <th>has_cactus</th>\n",
       "    </tr>\n",
       "  </thead>\n",
       "  <tbody>\n",
       "    <tr>\n",
       "      <th>count</th>\n",
       "      <td>17500.000000</td>\n",
       "    </tr>\n",
       "    <tr>\n",
       "      <th>mean</th>\n",
       "      <td>0.750629</td>\n",
       "    </tr>\n",
       "    <tr>\n",
       "      <th>std</th>\n",
       "      <td>0.432662</td>\n",
       "    </tr>\n",
       "    <tr>\n",
       "      <th>min</th>\n",
       "      <td>0.000000</td>\n",
       "    </tr>\n",
       "    <tr>\n",
       "      <th>25%</th>\n",
       "      <td>1.000000</td>\n",
       "    </tr>\n",
       "    <tr>\n",
       "      <th>50%</th>\n",
       "      <td>1.000000</td>\n",
       "    </tr>\n",
       "    <tr>\n",
       "      <th>75%</th>\n",
       "      <td>1.000000</td>\n",
       "    </tr>\n",
       "    <tr>\n",
       "      <th>max</th>\n",
       "      <td>1.000000</td>\n",
       "    </tr>\n",
       "  </tbody>\n",
       "</table>\n",
       "</div>"
      ],
      "text/plain": [
       "         has_cactus\n",
       "count  17500.000000\n",
       "mean       0.750629\n",
       "std        0.432662\n",
       "min        0.000000\n",
       "25%        1.000000\n",
       "50%        1.000000\n",
       "75%        1.000000\n",
       "max        1.000000"
      ]
     },
     "execution_count": 5,
     "metadata": {},
     "output_type": "execute_result"
    }
   ],
   "source": [
    "train.describe()"
   ]
  },
  {
   "cell_type": "code",
   "execution_count": 6,
   "id": "af0bbc6c-0ee9-44ca-a467-f1b73e2c7089",
   "metadata": {},
   "outputs": [],
   "source": [
    "#collect of images\n",
    "\n",
    "train_images_path = \"train/train\"\n",
    "test_images_path = \"test/test\"\n",
    "\n",
    "train_images = get_image_files(train_images_path)\n",
    "test_images = get_image_files(test_images_path)"
   ]
  },
  {
   "cell_type": "code",
   "execution_count": 7,
   "id": "e6a9d6e9-54d2-4dbf-ae99-50a5eb4be54d",
   "metadata": {},
   "outputs": [
    {
     "data": {
      "image/png": "[encoded data removed]",
      "text/plain": [
       "<PIL.JpegImagePlugin.JpegImageFile image mode=RGB size=32x32>"
      ]
     },
     "execution_count": 7,
     "metadata": {},
     "output_type": "execute_result"
    }
   ],
   "source": [
    "im = Image.open(train_images[0])\n",
    "im"
   ]
  },
  {
   "cell_type": "code",
   "execution_count": 8,
   "id": "4ae75914",
   "metadata": {},
   "outputs": [
    {
     "name": "stdout",
     "output_type": "stream",
     "text": [
      "has_cactus\n",
      "1    13136\n",
      "0     4364\n",
      "Name: count, dtype: int64\n"
     ]
    },
    {
     "data": {
      "image/png": "[encoded data removed]",
      "text/plain": [
       "<Figure size 640x480 with 1 Axes>"
      ]
     },
     "metadata": {},
     "output_type": "display_data"
    }
   ],
   "source": [
    "#data distribution\n",
    "train['has_cactus'].value_counts().plot(kind='bar')\n",
    "print(train['has_cactus'].value_counts())\n",
    "\n",
    "#we need to balance the dataset...\n"
   ]
  },
  {
   "cell_type": "code",
   "execution_count": 9,
   "id": "5c748173",
   "metadata": {},
   "outputs": [],
   "source": [
    "##normlization of the images and take the name of the images\n",
    "\n",
    "normalized_images = []\n",
    "normalized_images_names = []\n",
    "train_images = get_image_files('train/train')\n",
    "\n",
    "for image_path in train_images:\n",
    "    im = Image.open(image_path)\n",
    "    im_array = np.array(im)\n",
    "    im_array = im_array.astype('float32') / 255.0\n",
    "    normalized_images.append(im_array)\n",
    "    normalized_images_names.append(os.path.basename(image_path)) # add the name to the list in order to if there are cactus or no\n"
   ]
  },
  {
   "cell_type": "code",
   "execution_count": 10,
   "id": "df629480",
   "metadata": {},
   "outputs": [
    {
     "name": "stdout",
     "output_type": "stream",
     "text": [
      "0004be2cfeaba1c0361d39e2b000257b.jpg\n"
     ]
    }
   ],
   "source": [
    "print(normalized_images_names[0])"
   ]
  },
  {
   "cell_type": "code",
   "execution_count": 11,
   "id": "34cb8b7b",
   "metadata": {},
   "outputs": [
    {
     "data": {
      "text/plain": [
       "(32, 32, 3)"
      ]
     },
     "execution_count": 11,
     "metadata": {},
     "output_type": "execute_result"
    }
   ],
   "source": [
    "normalized_images[0].shape\n",
    "#normalized_images[0][0]"
   ]
  },
  {
   "cell_type": "code",
   "execution_count": 12,
   "id": "29412243",
   "metadata": {},
   "outputs": [
    {
     "data": {
      "image/png": "[encoded data removed]",
      "text/plain": [
       "<Figure size 640x480 with 1 Axes>"
      ]
     },
     "metadata": {},
     "output_type": "display_data"
    }
   ],
   "source": [
    "plt.show(plt.imshow(normalized_images[0]))"
   ]
  },
  {
   "cell_type": "code",
   "execution_count": 13,
   "id": "7193c145",
   "metadata": {},
   "outputs": [],
   "source": [
    "#separate images with cactus and without cactus\n",
    "\n",
    "#Create a dictionary to map image names to their indice\n",
    "name_to_index = {os.path.basename(image_path): idx for idx, image_path in enumerate(train_images)}\n",
    "df_noCactus = [] #images without cactus\n",
    "df_noCactus_name = [] #names of images without cactus\n",
    "\n",
    "for index, row in train.iterrows():\n",
    "    if row['has_cactus'] == 0:\n",
    "        image_name = row['id']\n",
    "        image_index = name_to_index[image_name] #use the dictionary to find the corresponding index\n",
    "\n",
    "\n",
    "        df_noCactus_name.append(normalized_images_names[image_index])\n",
    "        df_noCactus.append(normalized_images[image_index])"
   ]
  },
  {
   "cell_type": "code",
   "execution_count": 14,
   "id": "d0d268c6",
   "metadata": {},
   "outputs": [
    {
     "data": {
      "text/plain": [
       "4364"
      ]
     },
     "execution_count": 14,
     "metadata": {},
     "output_type": "execute_result"
    }
   ],
   "source": [
    "len(df_noCactus)"
   ]
  },
  {
   "cell_type": "code",
   "execution_count": 15,
   "id": "8b046929",
   "metadata": {},
   "outputs": [],
   "source": [
    "##random oversampling\n",
    "\n",
    "def add_noise(img,variance=0.1,mean=0):\n",
    "    \"\"\"add gaussian noise to an image\"\"\"\n",
    "    noise = np.random.normal(mean, variance, img.shape)\n",
    "    img += noise\n",
    "    img = np.clip(img, 0., 1.)\n",
    "    return img\n",
    "\n",
    "def rotation(img, angle=90):\n",
    "    \"\"\"rotate an image by a given angle in degrees\"\"\"\n",
    "    return np.rot90(img, k=angle//90)\n",
    "\n",
    "def luminosity(img, factor=1):\n",
    "    \"\"\"change the luminosity of an image\"\"\"\n",
    "    return np.clip(img * factor, 0., 1.)\n",
    "\n",
    "\n"
   ]
  },
  {
   "cell_type": "code",
   "execution_count": 16,
   "id": "7c9e3ca1",
   "metadata": {},
   "outputs": [],
   "source": [
    "def modified_image(im):\n",
    "    \"\"\"apply random transformations to an image\"\"\"\n",
    "    im = im.copy()\n",
    "    if np.random.rand() < 0.5:\n",
    "        im = rotation(im, angle=np.random.choice([90, 180, 270]))\n",
    "    if np.random.rand() < 0.5:\n",
    "        im = luminosity(im, factor=np.random.uniform(0.5, 1.5))\n",
    "    if np.random.rand() < 0.5:\n",
    "        im = add_noise(im, variance=np.random.uniform(0, 0.05))\n",
    "    return im"
   ]
  },
  {
   "cell_type": "code",
   "execution_count": 17,
   "id": "1c38e3be",
   "metadata": {},
   "outputs": [],
   "source": [
    "###new images of no cactus\n",
    "new_images = [] #new images of no cactus\n",
    "number_of_image=train['has_cactus'].value_counts()[1]-train['has_cactus'].value_counts()[0]\n",
    "for k in range(number_of_image):\n",
    "    p = np.random.randint(0, len(df_noCactus))\n",
    "    new_images.append(modified_image(df_noCactus[p]))"
   ]
  },
  {
   "cell_type": "code",
   "execution_count": 18,
   "id": "6af7fbbe",
   "metadata": {},
   "outputs": [
    {
     "data": {
      "image/png": "[encoded data removed]",
      "text/plain": [
       "<Figure size 640x480 with 1 Axes>"
      ]
     },
     "metadata": {},
     "output_type": "display_data"
    },
    {
     "name": "stdout",
     "output_type": "stream",
     "text": [
      "8772\n"
     ]
    }
   ],
   "source": [
    "plt.show(plt.imshow(new_images[9]))\n",
    "print(len(new_images))"
   ]
  },
  {
   "cell_type": "code",
   "execution_count": 19,
   "id": "40faa1a7",
   "metadata": {},
   "outputs": [
    {
     "name": "stdout",
     "output_type": "stream",
     "text": [
      "(26272, 32, 32, 3)\n"
     ]
    }
   ],
   "source": [
    "##create a new dataset with the new images\n",
    "new_images_id=np.zeros(len(new_images))\n",
    "new_images_has_cactus=np.zeros(len(new_images))\n",
    "\n",
    "##concatenate the new images with the old images\n",
    "new_images=np.array(new_images)\n",
    "normalized_images=np.array(normalized_images)\n",
    "df_Cactus=np.concatenate((normalized_images,new_images),axis=0)\n",
    "\n",
    "new_images_name=np.array(new_images_id)\n",
    "normalized_images_names=np.array(normalized_images_names)\n",
    "df_Cactus_id=np.concatenate((normalized_images_names,new_images_name),axis=0)\n",
    "\n",
    "has_cactus=train['has_cactus'].to_numpy()\n",
    "new_images_has_cactus=np.concatenate((has_cactus,new_images_has_cactus),axis=0)\n",
    "\n",
    "# flatten the images\n",
    "#df_Cactus_list = [img.flatten().tolist() for img in df_Cactus]\n",
    "\n",
    "#print the shape of the new dataset\n",
    "print(df_Cactus.shape)\n",
    "\n"
   ]
  },
  {
   "cell_type": "code",
   "execution_count": 25,
   "id": "237138a9",
   "metadata": {},
   "outputs": [
    {
     "name": "stdout",
     "output_type": "stream",
     "text": [
      "there are : 13136.0 cactus and  13136.0 no cactus\n"
     ]
    }
   ],
   "source": [
    "print(\"there are :\",np.sum(new_images_has_cactus),\"cactus and \",len(new_images_has_cactus)-np.sum(new_images_has_cactus),\"no cactus\")"
   ]
  }
 ],
 "metadata": {
  "kernelspec": {
   "display_name": "Python 3 (ipykernel)",
   "language": "python",
   "name": "python3"
  },
  "language_info": {
   "codemirror_mode": {
    "name": "ipython",
    "version": 3
   },
   "file_extension": ".py",
   "mimetype": "text/x-python",
   "name": "python",
   "nbconvert_exporter": "python",
   "pygments_lexer": "ipython3",
   "version": "3.10.11"
  }
 },
 "nbformat": 4,
 "nbformat_minor": 5
}
